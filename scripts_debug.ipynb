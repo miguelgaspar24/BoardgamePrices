{
 "cells": [
  {
   "cell_type": "code",
   "execution_count": 1,
   "metadata": {},
   "outputs": [],
   "source": [
    "from bs4 import BeautifulSoup\n",
    "import keyring\n",
    "import numpy as np\n",
    "import pandas as pd\n",
    "import requests\n",
    "\n",
    "import utilities"
   ]
  },
  {
   "cell_type": "code",
   "execution_count": 4,
   "metadata": {},
   "outputs": [],
   "source": [
    "\n",
    "def get_prices():\n",
    "\t'''\n",
    "\tScrapes www.jogonamesa.pt for board game prices. Takes NO parameters.\n",
    "\n",
    "\tReturns a list of boardgame names, and pandas DataFrame containing those games' prices.\n",
    "\t'''\n",
    "\n",
    "\tSERVICE = 'jogonamesa'\n",
    "\tUSERNAME = 'miguelgaspar24@gmail.com'\n",
    "\tpassword = keyring.get_password(SERVICE, USERNAME)\n",
    "\n",
    "\tcredentials = {\n",
    "\t\t\t\t   'email': USERNAME,\n",
    "\t\t\t\t   'password': password,\n",
    "\t\t\t\t   'BT_LOGIN': 'Entrar'\n",
    "\t\t\t\t  }\n",
    "\n",
    "\tsession = requests.session()\n",
    "\tlogin_url = 'http://jogonamesa.pt/P/user_login.cgi'\n",
    "\tlogin = session.get(login_url)\n",
    "\tlogin = session.post(\n",
    "\t\t\t\t\t\t login_url,\n",
    "\t\t\t\t\t\t data=credentials,\n",
    "\t\t\t\t\t\t)\n",
    "\n",
    "\twishlist_url = 'http://jogonamesa.pt/P/user_wishlist.cgi'\n",
    "\twishlist = session.get(wishlist_url)\n",
    "\twishlist_html = wishlist.text\n",
    "\twishlist_soup = BeautifulSoup(wishlist_html, features='html.parser')\n",
    "\tprint(wishlist_soup)\n",
    "\tpages = wishlist_soup.find_all('a', class_='paginacao')\n",
    "\tn_pages = int(len(pages) / 2)\n",
    "\twishlist_urls = [wishlist_url + '?accao=8&num={}'.format(str(page_number)) for page_number in range(1, n_pages + 1)]\n",
    "\n",
    "\tgames = {}\n",
    "\tfor url in wishlist_urls:\n",
    "\n",
    "\t\tpage = session.get(url)\n",
    "\t\tpage_html = page.text\n",
    "\t\tpage_soup = BeautifulSoup(page_html, features='html.parser')\n",
    "\n",
    "\t\tname_blocks = page_soup.find_all('div', class_='wishlist_caracteristicas')\n",
    "\t\tprice_blocks = page_soup.find_all('div', class_='wishlist_opcoes')\n",
    "\n",
    "\t\tfor i, (name_block, price_block) in enumerate(zip(name_blocks, price_blocks)):\n",
    "\t\t\tname = name_block.a.string\n",
    "\t\t\tname = utilities.convert_chars(name)\n",
    "\t\t\tprice_tags = price_block.find_all('a', 'botao')\n",
    "\t\t\tprint(name)\n",
    "\t\t\tprint(price_tags)\n",
    "\t\t\ttry:\n",
    "\t\t\t\tprices = []\n",
    "\t\t\t\tif len(price_tags) != 0:\n",
    "\n",
    "\t\t\t\t\tfor tag in price_tags:\n",
    "\t\t\t\t\t\tprice = tag.contents[1].split('€')[1]\n",
    "\t\t\t\t\t\tavailability = tag.find_next('span').contents[0].contents[0].string\n",
    "\t\t\t\t\t\tif 'Sem prev' not in availability:\n",
    "\t\t\t\t\t\t\tprices.append(price)\n",
    "\n",
    "\t\t\t\t\tif len(prices) == 0:\n",
    "\t\t\t\t\t\traise AttributeError\n",
    "\n",
    "\t\t\t\t\tgames[name] = min(prices)\n",
    "\n",
    "\t\t\t\telse:\n",
    "\t\t\t\t\traise AttributeError\n",
    "\n",
    "\t\t\texcept AttributeError:\n",
    "\t\t\t\tgames[name] = np.nan\n",
    "\tprint(games)\n",
    "\tprice_table = pd.DataFrame.from_dict(games, orient='index').reset_index()\n",
    "\t# print(price_table)\n",
    "\tprice_table.columns = ['name', 'JogoNaMesa']\n",
    "\tprice_table['name'] = price_table['name'].astype('str')\n",
    "\tprice_table['JogoNaMesa'] = price_table['JogoNaMesa'].astype('float')\n",
    "\tprice_table.sort_values(by=['name'], inplace=True)\n",
    "\tprice_table.reset_index(inplace=True)\n",
    "\tprice_table.drop(columns=['index'], inplace=True)\n",
    "\n",
    "\tgames_list = list(games.keys())\n",
    "\n",
    "\treturn games_list, price_table"
   ]
  },
  {
   "cell_type": "code",
   "execution_count": 3,
   "metadata": {},
   "outputs": [
    {
     "name": "stdout",
     "output_type": "stream",
     "text": [
      "{}\n"
     ]
    },
    {
     "ename": "ValueError",
     "evalue": "Length mismatch: Expected axis has 1 elements, new values have 2 elements",
     "output_type": "error",
     "traceback": [
      "\u001b[1;31m---------------------------------------------------------------------------\u001b[0m",
      "\u001b[1;31mValueError\u001b[0m                                Traceback (most recent call last)",
      "\u001b[1;32mc:\\Users\\migue\\OneDrive\\Desktop\\virtual_envs\\board_games_web_scraping\\project\\scripts_debug.ipynb Cell 3\u001b[0m line \u001b[0;36m1\n\u001b[1;32m----> <a href='vscode-notebook-cell:/c%3A/Users/migue/OneDrive/Desktop/virtual_envs/board_games_web_scraping/project/scripts_debug.ipynb#W2sZmlsZQ%3D%3D?line=0'>1</a>\u001b[0m get_prices()\n",
      "\u001b[1;32mc:\\Users\\migue\\OneDrive\\Desktop\\virtual_envs\\board_games_web_scraping\\project\\scripts_debug.ipynb Cell 3\u001b[0m line \u001b[0;36m7\n\u001b[0;32m     <a href='vscode-notebook-cell:/c%3A/Users/migue/OneDrive/Desktop/virtual_envs/board_games_web_scraping/project/scripts_debug.ipynb#W2sZmlsZQ%3D%3D?line=71'>72</a>\u001b[0m price_table \u001b[39m=\u001b[39m pd\u001b[39m.\u001b[39mDataFrame\u001b[39m.\u001b[39mfrom_dict(games, orient\u001b[39m=\u001b[39m\u001b[39m'\u001b[39m\u001b[39mindex\u001b[39m\u001b[39m'\u001b[39m)\u001b[39m.\u001b[39mreset_index()\n\u001b[0;32m     <a href='vscode-notebook-cell:/c%3A/Users/migue/OneDrive/Desktop/virtual_envs/board_games_web_scraping/project/scripts_debug.ipynb#W2sZmlsZQ%3D%3D?line=72'>73</a>\u001b[0m \u001b[39m# print(price_table)\u001b[39;00m\n\u001b[1;32m---> <a href='vscode-notebook-cell:/c%3A/Users/migue/OneDrive/Desktop/virtual_envs/board_games_web_scraping/project/scripts_debug.ipynb#W2sZmlsZQ%3D%3D?line=73'>74</a>\u001b[0m price_table\u001b[39m.\u001b[39;49mcolumns \u001b[39m=\u001b[39m [\u001b[39m'\u001b[39m\u001b[39mname\u001b[39m\u001b[39m'\u001b[39m, \u001b[39m'\u001b[39m\u001b[39mJogoNaMesa\u001b[39m\u001b[39m'\u001b[39m]\n\u001b[0;32m     <a href='vscode-notebook-cell:/c%3A/Users/migue/OneDrive/Desktop/virtual_envs/board_games_web_scraping/project/scripts_debug.ipynb#W2sZmlsZQ%3D%3D?line=74'>75</a>\u001b[0m price_table[\u001b[39m'\u001b[39m\u001b[39mname\u001b[39m\u001b[39m'\u001b[39m] \u001b[39m=\u001b[39m price_table[\u001b[39m'\u001b[39m\u001b[39mname\u001b[39m\u001b[39m'\u001b[39m]\u001b[39m.\u001b[39mastype(\u001b[39m'\u001b[39m\u001b[39mstr\u001b[39m\u001b[39m'\u001b[39m)\n\u001b[0;32m     <a href='vscode-notebook-cell:/c%3A/Users/migue/OneDrive/Desktop/virtual_envs/board_games_web_scraping/project/scripts_debug.ipynb#W2sZmlsZQ%3D%3D?line=75'>76</a>\u001b[0m price_table[\u001b[39m'\u001b[39m\u001b[39mJogoNaMesa\u001b[39m\u001b[39m'\u001b[39m] \u001b[39m=\u001b[39m price_table[\u001b[39m'\u001b[39m\u001b[39mJogoNaMesa\u001b[39m\u001b[39m'\u001b[39m]\u001b[39m.\u001b[39mastype(\u001b[39m'\u001b[39m\u001b[39mfloat\u001b[39m\u001b[39m'\u001b[39m)\n",
      "File \u001b[1;32m~\\AppData\\Local\\Packages\\PythonSoftwareFoundation.Python.3.10_qbz5n2kfra8p0\\LocalCache\\local-packages\\Python310\\site-packages\\pandas\\core\\generic.py:5915\u001b[0m, in \u001b[0;36mNDFrame.__setattr__\u001b[1;34m(self, name, value)\u001b[0m\n\u001b[0;32m   5913\u001b[0m \u001b[39mtry\u001b[39;00m:\n\u001b[0;32m   5914\u001b[0m     \u001b[39mobject\u001b[39m\u001b[39m.\u001b[39m\u001b[39m__getattribute__\u001b[39m(\u001b[39mself\u001b[39m, name)\n\u001b[1;32m-> 5915\u001b[0m     \u001b[39mreturn\u001b[39;00m \u001b[39mobject\u001b[39;49m\u001b[39m.\u001b[39;49m\u001b[39m__setattr__\u001b[39;49m(\u001b[39mself\u001b[39;49m, name, value)\n\u001b[0;32m   5916\u001b[0m \u001b[39mexcept\u001b[39;00m \u001b[39mAttributeError\u001b[39;00m:\n\u001b[0;32m   5917\u001b[0m     \u001b[39mpass\u001b[39;00m\n",
      "File \u001b[1;32m~\\AppData\\Local\\Packages\\PythonSoftwareFoundation.Python.3.10_qbz5n2kfra8p0\\LocalCache\\local-packages\\Python310\\site-packages\\pandas\\_libs\\properties.pyx:69\u001b[0m, in \u001b[0;36mpandas._libs.properties.AxisProperty.__set__\u001b[1;34m()\u001b[0m\n",
      "File \u001b[1;32m~\\AppData\\Local\\Packages\\PythonSoftwareFoundation.Python.3.10_qbz5n2kfra8p0\\LocalCache\\local-packages\\Python310\\site-packages\\pandas\\core\\generic.py:823\u001b[0m, in \u001b[0;36mNDFrame._set_axis\u001b[1;34m(self, axis, labels)\u001b[0m\n\u001b[0;32m    821\u001b[0m \u001b[39mdef\u001b[39;00m \u001b[39m_set_axis\u001b[39m(\u001b[39mself\u001b[39m, axis: \u001b[39mint\u001b[39m, labels: AnyArrayLike \u001b[39m|\u001b[39m \u001b[39mlist\u001b[39m) \u001b[39m-\u001b[39m\u001b[39m>\u001b[39m \u001b[39mNone\u001b[39;00m:\n\u001b[0;32m    822\u001b[0m     labels \u001b[39m=\u001b[39m ensure_index(labels)\n\u001b[1;32m--> 823\u001b[0m     \u001b[39mself\u001b[39;49m\u001b[39m.\u001b[39;49m_mgr\u001b[39m.\u001b[39;49mset_axis(axis, labels)\n\u001b[0;32m    824\u001b[0m     \u001b[39mself\u001b[39m\u001b[39m.\u001b[39m_clear_item_cache()\n",
      "File \u001b[1;32m~\\AppData\\Local\\Packages\\PythonSoftwareFoundation.Python.3.10_qbz5n2kfra8p0\\LocalCache\\local-packages\\Python310\\site-packages\\pandas\\core\\internals\\managers.py:230\u001b[0m, in \u001b[0;36mBaseBlockManager.set_axis\u001b[1;34m(self, axis, new_labels)\u001b[0m\n\u001b[0;32m    228\u001b[0m \u001b[39mdef\u001b[39;00m \u001b[39mset_axis\u001b[39m(\u001b[39mself\u001b[39m, axis: \u001b[39mint\u001b[39m, new_labels: Index) \u001b[39m-\u001b[39m\u001b[39m>\u001b[39m \u001b[39mNone\u001b[39;00m:\n\u001b[0;32m    229\u001b[0m     \u001b[39m# Caller is responsible for ensuring we have an Index object.\u001b[39;00m\n\u001b[1;32m--> 230\u001b[0m     \u001b[39mself\u001b[39;49m\u001b[39m.\u001b[39;49m_validate_set_axis(axis, new_labels)\n\u001b[0;32m    231\u001b[0m     \u001b[39mself\u001b[39m\u001b[39m.\u001b[39maxes[axis] \u001b[39m=\u001b[39m new_labels\n",
      "File \u001b[1;32m~\\AppData\\Local\\Packages\\PythonSoftwareFoundation.Python.3.10_qbz5n2kfra8p0\\LocalCache\\local-packages\\Python310\\site-packages\\pandas\\core\\internals\\base.py:70\u001b[0m, in \u001b[0;36mDataManager._validate_set_axis\u001b[1;34m(self, axis, new_labels)\u001b[0m\n\u001b[0;32m     67\u001b[0m     \u001b[39mpass\u001b[39;00m\n\u001b[0;32m     69\u001b[0m \u001b[39melif\u001b[39;00m new_len \u001b[39m!=\u001b[39m old_len:\n\u001b[1;32m---> 70\u001b[0m     \u001b[39mraise\u001b[39;00m \u001b[39mValueError\u001b[39;00m(\n\u001b[0;32m     71\u001b[0m         \u001b[39mf\u001b[39m\u001b[39m\"\u001b[39m\u001b[39mLength mismatch: Expected axis has \u001b[39m\u001b[39m{\u001b[39;00mold_len\u001b[39m}\u001b[39;00m\u001b[39m elements, new \u001b[39m\u001b[39m\"\u001b[39m\n\u001b[0;32m     72\u001b[0m         \u001b[39mf\u001b[39m\u001b[39m\"\u001b[39m\u001b[39mvalues have \u001b[39m\u001b[39m{\u001b[39;00mnew_len\u001b[39m}\u001b[39;00m\u001b[39m elements\u001b[39m\u001b[39m\"\u001b[39m\n\u001b[0;32m     73\u001b[0m     )\n",
      "\u001b[1;31mValueError\u001b[0m: Length mismatch: Expected axis has 1 elements, new values have 2 elements"
     ]
    }
   ],
   "source": [
    "get_prices()"
   ]
  },
  {
   "cell_type": "code",
   "execution_count": null,
   "metadata": {},
   "outputs": [],
   "source": []
  }
 ],
 "metadata": {
  "kernelspec": {
   "display_name": "Python 3",
   "language": "python",
   "name": "python3"
  },
  "language_info": {
   "codemirror_mode": {
    "name": "ipython",
    "version": 3
   },
   "file_extension": ".py",
   "mimetype": "text/x-python",
   "name": "python",
   "nbconvert_exporter": "python",
   "pygments_lexer": "ipython3",
   "version": "3.10.11"
  }
 },
 "nbformat": 4,
 "nbformat_minor": 2
}
